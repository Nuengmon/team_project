{
 "cells": [
  {
   "cell_type": "code",
   "execution_count": 8,
   "id": "eba1f4b9",
   "metadata": {},
   "outputs": [],
   "source": [
    "import matplotlib.pyplot as plt\n",
    "from matplotlib.animation import FuncAnimation\n",
    "import seaborn as sns\n",
    "import font_init\n",
    "from load_data import load_covid\n",
    "%matplotlib qt"
   ]
  },
  {
   "cell_type": "code",
   "execution_count": 12,
   "id": "6edc8fc7",
   "metadata": {},
   "outputs": [],
   "source": [
    "# 맥인 경우 폰트 깨짐 방지, font_init으로 처리가 잘 안되는데 확인 필요함 지금은 실행할때마다 넣어줘야 됨\n",
    "plt.rc('font', family='AppleGothic')\n",
    "plt.rcParams['axes.unicode_minus'] = False\n",
    "\n",
    "\n",
    "df = load_covid(['2020.1.20', '2021.6.1'])\n",
    "df = df[1:] # 계 부분 숫자가 너무 커서 빼고 그리려고\n",
    "\n",
    "\n",
    "fig = plt.figure(figsize=(8,6))\n",
    "axes = fig.add_subplot(1,1,1)\n",
    "axes.set_ylim(0,1000)\n",
    "colors = sns.color_palette('hls', len(df.index)) # bar마다 다른 색상 적용\n",
    "\n",
    "\n",
    "def animate(i):\n",
    "    plt.bar(df.index, df.iloc[:,:i+1].sum(axis=1), color=colors)\n",
    "    axes.set_ylim(0, df.iloc[:,:i+1].sum(axis=1).max()+100)\n",
    "    plt.title('Day : {}'.format(df.columns[i]))\n",
    "    \n",
    "# animate를 호출해서 그림을 그림\n",
    "ani = FuncAnimation(fig, animate, interval=10)"
   ]
  }
 ],
 "metadata": {
  "kernelspec": {
   "display_name": "Python 3",
   "language": "python",
   "name": "python3"
  },
  "language_info": {
   "codemirror_mode": {
    "name": "ipython",
    "version": 3
   },
   "file_extension": ".py",
   "mimetype": "text/x-python",
   "name": "python",
   "nbconvert_exporter": "python",
   "pygments_lexer": "ipython3",
   "version": "3.8.8"
  }
 },
 "nbformat": 4,
 "nbformat_minor": 5
}
